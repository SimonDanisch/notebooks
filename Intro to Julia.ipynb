{
 "cells": [
  {
   "cell_type": "markdown",
   "metadata": {
    "deletable": true,
    "editable": true
   },
   "source": [
    "# Multiple Dispatch:"
   ]
  },
  {
   "cell_type": "code",
   "execution_count": 1,
   "metadata": {
    "collapsed": false
   },
   "outputs": [
    {
     "data": {
      "text/plain": [
       "test (generic function with 2 methods)"
      ]
     },
     "execution_count": 1,
     "metadata": {},
     "output_type": "execute_result"
    }
   ],
   "source": [
    "function test(a::Integer)\n",
    "    a + 1\n",
    "end\n",
    "function test(a::Float32) # spezialisierung von der Float32 methode\n",
    "    a + 1f0\n",
    "end"
   ]
  },
  {
   "cell_type": "code",
   "execution_count": 2,
   "metadata": {
    "collapsed": false,
    "deletable": true,
    "editable": true
   },
   "outputs": [
    {
     "name": "stdout",
     "output_type": "stream",
     "text": [
      "\n",
      "define i64 @julia_test_71548(i64) #0 {\n",
      "top:\n",
      "  %1 = add i64 %0, 1\n",
      "  ret i64 %1\n",
      "}\n",
      "\n",
      "define i64 @julia_test_71559(i32) #0 {\n",
      "top:\n",
      "  %1 = sext i32 %0 to i64\n",
      "  %2 = add nsw i64 %1, 1\n",
      "  ret i64 %2\n",
      "}\n",
      "\n",
      "define float @julia_test_71565(float) #0 {\n",
      "top:\n",
      "  %1 = fadd float %0, 1.000000e+00\n",
      "  ret float %1\n",
      "}\n"
     ]
    },
    {
     "data": {
      "text/html": [
       "2 methods for generic function <b>test</b>:<ul><li> test(a::<b>Float32</b>) at In[1]:5</li> <li> test(a::<b>Integer</b>) at In[1]:2</li> </ul>"
      ],
      "text/plain": [
       "# 2 methods for generic function \"test\":\n",
       "test(a::Float32) at In[1]:5\n",
       "test(a::Integer) at In[1]:2"
      ]
     },
     "execution_count": 2,
     "metadata": {},
     "output_type": "execute_result"
    }
   ],
   "source": [
    "# jedes liste an argumenten at seine eigene methode!\n",
    "@code_llvm test(1)\n",
    "@code_llvm test(Int32(1))\n",
    "@code_llvm test(1.0f0)\n",
    "methods(test)"
   ]
  },
  {
   "cell_type": "code",
   "execution_count": 3,
   "metadata": {
    "collapsed": false,
    "deletable": true,
    "editable": true
   },
   "outputs": [
    {
     "name": "stdout",
     "output_type": "stream",
     "text": [
      "\t.text\n",
      "Filename: In[1]\n",
      "\tpushq\t%rbp\n",
      "\tmovq\t%rsp, %rbp\n",
      "Source line: 2\n",
      "\tleaq\t1(%rdi), %rax\n",
      "\tpopq\t%rbp\n",
      "\tretq\n",
      "\tnopw\t(%rax,%rax)\n"
     ]
    }
   ],
   "source": [
    "@code_native test(1)"
   ]
  },
  {
   "cell_type": "markdown",
   "metadata": {
    "deletable": true,
    "editable": true
   },
   "source": [
    "# C"
   ]
  },
  {
   "cell_type": "code",
   "execution_count": 4,
   "metadata": {
    "collapsed": false,
    "deletable": true,
    "editable": true
   },
   "outputs": [
    {
     "name": "stdout",
     "output_type": "stream",
     "text": [
      "gcc (Ubuntu 6.2.0-5ubuntu12) 6.2.0 20161005\n",
      "Copyright (C) 2016 Free Software Foundation, Inc.\n",
      "This is free software; see the source for copying conditions.  There is NO\n",
      "warranty; not even for MERCHANTABILITY or FITNESS FOR A PARTICULAR PURPOSE.\n",
      "\n",
      "\n"
     ]
    },
    {
     "data": {
      "text/plain": [
       "c_sum (generic function with 1 method)"
      ]
     },
     "execution_count": 4,
     "metadata": {},
     "output_type": "execute_result"
    }
   ],
   "source": [
    "# compile some C code (taken from Steven G. Johnson's https://github.com/stevengj/18S096-iap17/blob/master/lecture1/Boxes-and-registers.ipynb)\n",
    "c_code = \"\"\"\n",
    "#include <stddef.h>\n",
    "double c_sum(size_t n, double *X) {\n",
    "    double s = 0.0;\n",
    "    for (size_t i = 0; i < n; ++i) {\n",
    "        s += X[i];\n",
    "    }\n",
    "    return s;\n",
    "}\n",
    "\"\"\"\n",
    "# compile to a shared library by piping C_code to gcc:\n",
    "const Clib = tempname()\n",
    "println(readstring(`gcc --version`))\n",
    "open(`gcc -fPIC -O3 -msse3 -xc -shared -o $(Clib * \".\" * Libdl.dlext) -`, \"w\") do f\n",
    "    print(f, c_code)\n",
    "end\n",
    "c_sum(X::Array{Float64}) = ccall((\"c_sum\", Clib), Float64, (Csize_t, Ptr{Float64}), length(X), X)"
   ]
  },
  {
   "cell_type": "markdown",
   "metadata": {
    "deletable": true,
    "editable": true
   },
   "source": [
    "# Python"
   ]
  },
  {
   "cell_type": "code",
   "execution_count": 6,
   "metadata": {
    "collapsed": false,
    "deletable": true,
    "editable": true
   },
   "outputs": [
    {
     "name": "stdout",
     "output_type": "stream",
     "text": [
      "2.7.13\n"
     ]
    }
   ],
   "source": [
    "using PyCall\n",
    "println(PyCall.pyversion)\n",
    "\n",
    "np_sum = pyimport(\"numpy\")[\"sum\"]\n",
    "\n",
    "py\"\"\"\n",
    "def mysum(a):\n",
    "    s = 0.0\n",
    "    for x in a:\n",
    "        s = s + x\n",
    "    return s\n",
    "\"\"\"\n",
    "py_sum = py\"mysum\";"
   ]
  },
  {
   "cell_type": "markdown",
   "metadata": {
    "deletable": true,
    "editable": true
   },
   "source": [
    "# Julia"
   ]
  },
  {
   "cell_type": "code",
   "execution_count": 8,
   "metadata": {
    "collapsed": false,
    "deletable": true,
    "editable": true
   },
   "outputs": [
    {
     "data": {
      "text/plain": [
       "jlsimd_sum (generic function with 1 method)"
      ]
     },
     "execution_count": 8,
     "metadata": {},
     "output_type": "execute_result"
    }
   ],
   "source": [
    "function jl_sum(A)\n",
    "    s = zero(eltype(A))\n",
    "    for a in A\n",
    "        s += a # funktioniert mit allen typen, die + definiert haben (duck typing)\n",
    "    end\n",
    "    return s\n",
    "end\n",
    "function jlsimd_sum(A)\n",
    "    s = zero(eltype(A))\n",
    "    # @simd erlaubt dem compiler mehr freiheit um den loop zu vektorisieren\n",
    "    @simd for a in A\n",
    "        s += a\n",
    "    end\n",
    "    return s\n",
    "end"
   ]
  },
  {
   "cell_type": "code",
   "execution_count": 9,
   "metadata": {
    "collapsed": false,
    "deletable": true,
    "editable": true
   },
   "outputs": [],
   "source": [
    "using BenchmarkTools\n",
    "a = rand(10^7) # Array mit randomisierten zahlen in [0,1)\n",
    "apy_numpy = PyObject(a)\n",
    "\n",
    "c_bench = @benchmark c_sum($a)\n",
    "py_bench = @benchmark py_sum($a)\n",
    "np_bench = @benchmark np_sum($a)\n",
    "jl_bench1 = @benchmark jlsimd_sum($a)\n",
    "jl_bench2 = @benchmark jl_sum($a)\n",
    "jl_bench3 = @benchmark sum($a)\n",
    "nothing"
   ]
  },
  {
   "cell_type": "code",
   "execution_count": 11,
   "metadata": {
    "collapsed": false,
    "deletable": true,
    "editable": true
   },
   "outputs": [
    {
     "name": "stdout",
     "output_type": "stream",
     "text": [
      "           julia SIMD: TrialEstimate(5.285 ms)\n",
      "  Base.sum (präziser): TrialEstimate(5.330 ms)\n",
      "                numpy: TrialEstimate(5.624 ms)\n",
      "                  gcc: TrialEstimate(11.872 ms)\n",
      "                julia: TrialEstimate(11.981 ms)\n",
      "          pure python: TrialEstimate(1.323 s)\n"
     ]
    }
   ],
   "source": [
    "trials = [c_bench, py_bench, np_bench, jl_bench1, jl_bench2, jl_bench3]\n",
    "names = [\"gcc\", \"pure python\", \"numpy\", \"julia SIMD\", \"julia\", \"Base.sum (präziser)\"]\n",
    "idx = sortperm(trials, by = minimum)\n",
    "\n",
    "# der Grund, warum Julia hauptsächlich in Julia geschrieben ist!\n",
    "for i in idx\n",
    "    @printf(\"%21s: %s\\n\", names[i], string(minimum(trials[i])))\n",
    "end"
   ]
  },
  {
   "cell_type": "markdown",
   "metadata": {
    "deletable": true,
    "editable": true
   },
   "source": [
    "# Threads"
   ]
  },
  {
   "cell_type": "code",
   "execution_count": 11,
   "metadata": {
    "collapsed": false,
    "deletable": true,
    "editable": true,
    "scrolled": true
   },
   "outputs": [
    {
     "name": "stderr",
     "output_type": "stream",
     "text": [
      "WARNING: Method definition foo(Any, Any) in module Main at In[10]:11 overwritten at In[11]:11.\n",
      "WARNING: Method definition foo(Any, Any) in module Main at In[10]:11 overwritten at In[11]:11.\n",
      "WARNING: Method definition foo(Any, Any) in module Main at In[10]:11 overwritten at In[11]:11.\n"
     ]
    }
   ],
   "source": [
    "# starte 2 processe mit jeweils 4 threads im threadpool\n",
    "ENV[\"JULIA_NUM_THREADS\"] = 4 #(2 reale, 2 hyper)\n",
    "addprocs(2)\n",
    "a = rand(10^7)\n",
    "b = rand(10^7)\n",
    "out = similar(a)\n",
    "# Funktionen und importe werden mit @everywhere in jedem Process geladen\n",
    "@everywhere using BenchmarkTools\n",
    "\n",
    "@everywhere function foo(a, b)\n",
    "    x = a + b / sin(b) * exp(a) + rand()\n",
    "    y = log10(x / b) + rand()\n",
    "    atan2(x, y)\n",
    "end\n",
    "nothing"
   ]
  },
  {
   "cell_type": "code",
   "execution_count": 12,
   "metadata": {
    "collapsed": false,
    "deletable": true,
    "editable": true
   },
   "outputs": [],
   "source": [
    "@everywhere function threaded_map!(f, C, A, B)\n",
    "    N = length(C)\n",
    "    # @threads is experimental!!!\n",
    "    # In der Theory, sollte dies auch mit AVX 512 auf allen Kernen Xeon Phi laufen\n",
    "    Base.Threads.@threads for i in 1:N\n",
    "        @inbounds C[i] = f(A[i], B[i])\n",
    "    end\n",
    "    C\n",
    "end\n",
    "\n",
    "# Main process, hat nur ein thread\n",
    "jl_bench1 = @benchmark threaded_map!($foo, $out, $a, $b)\n",
    "\n",
    "# starte einen benchmark in einer clojure auf einem worker mit 4 threads\n",
    "jl_bench4 = remotecall_fetch(2, a, b, out) do a, b, out\n",
    "    @benchmark threaded_map!($foo, $out, $a, $b)\n",
    "end\n",
    "# Base.map! als vergleich\n",
    "jl_bench = @benchmark $out .= $(foo).($a, $b)\n",
    "nothing"
   ]
  },
  {
   "cell_type": "code",
   "execution_count": 14,
   "metadata": {
    "collapsed": false,
    "deletable": true,
    "editable": true
   },
   "outputs": [
    {
     "data": {
      "text/plain": [
       "1.6821415854808244"
      ]
     },
     "execution_count": 14,
     "metadata": {},
     "output_type": "execute_result"
    }
   ],
   "source": [
    "minimum(jl_bench1).time / minimum(jl_bench4).time # gutes scaling!"
   ]
  },
  {
   "cell_type": "code",
   "execution_count": 14,
   "metadata": {
    "collapsed": false,
    "deletable": true,
    "editable": true
   },
   "outputs": [
    {
     "data": {
      "text/plain": [
       "2224.942204603455"
      ]
     },
     "execution_count": 14,
     "metadata": {},
     "output_type": "execute_result"
    }
   ],
   "source": [
    "# Führe Berechnung parallel aus! \n",
    "# Am besten auf einem Cluster\n",
    "a = @spawn sum(threaded_map!(foo, Array(Float64, 1000), rand(1000), rand(1000)))\n",
    "b = @spawn sum(threaded_map!(foo, Array(Float64, 1000), rand(1000), rand(1000)))\n",
    "fetch(a) + fetch(b)"
   ]
  },
  {
   "cell_type": "markdown",
   "metadata": {
    "deletable": true,
    "editable": true
   },
   "source": [
    "# Zusammenfassung:\n",
    "* Julia bietet first class support für clojures/lambdas und erlaubt selbst inlining und SIMD für higher order functions\n",
    "* Threading unterstützt Knights Landing\n",
    "* Kombination von parallelem Programmieren, Multi-Threading und SIMD für optimale Performance"
   ]
  }
 ],
 "metadata": {
  "anaconda-cloud": {},
  "kernelspec": {
   "display_name": "Julia 0.5.0",
   "language": "julia",
   "name": "julia-0.5"
  },
  "language_info": {
   "file_extension": ".jl",
   "mimetype": "application/julia",
   "name": "julia",
   "version": "0.5.0"
  }
 },
 "nbformat": 4,
 "nbformat_minor": 0
}
