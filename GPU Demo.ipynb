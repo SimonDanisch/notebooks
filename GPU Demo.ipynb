{
 "cells": [
  {
   "cell_type": "code",
   "execution_count": 1,
   "metadata": {
    "collapsed": false,
    "deletable": true,
    "editable": true
   },
   "outputs": [
    {
     "data": {
      "text/plain": [
       "cndf2 (generic function with 1 method)"
      ]
     },
     "execution_count": 1,
     "metadata": {},
     "output_type": "execute_result"
    }
   ],
   "source": [
    "function blackscholes(price, strike, rate, volatility, time)\n",
    "    logterm   = log10(price / strike)\n",
    "    powterm   = 0.5f0 * volatility * volatility\n",
    "    den       = volatility * sqrt(time)\n",
    "    d1        = (((rate + powterm) * time) + logterm) / den\n",
    "    d2        = d1 - den\n",
    "    cndf2d1   = cndf2(d1)\n",
    "    cndf2d2   = cndf2(d2)\n",
    "    futureval = strike * exp(-rate * time)\n",
    "    c1        = futureval * cndf2d2\n",
    "    call      = price * cndf2d1 - c1\n",
    "    return call - futureval + price\n",
    "end\n",
    "cndf2(x) = 0.5f0 + 0.5f0 * erf(0.707106781f0 * x)"
   ]
  },
  {
   "cell_type": "code",
   "execution_count": 2,
   "metadata": {
    "collapsed": false,
    "deletable": true,
    "editable": true
   },
   "outputs": [
    {
     "data": {
      "text/plain": [
       "benchmark (generic function with 1 method)"
      ]
     },
     "execution_count": 2,
     "metadata": {},
     "output_type": "execute_result"
    }
   ],
   "source": [
    "function benchmark(result, a, b, c, d, e)\n",
    "    result .= blackscholes.(a, b, c, d, e)\n",
    "    GPUArrays.synchronize(result)\n",
    "end"
   ]
  },
  {
   "cell_type": "code",
   "execution_count": 4,
   "metadata": {
    "collapsed": false,
    "deletable": true,
    "editable": true
   },
   "outputs": [
    {
     "data": {
      "text/plain": [
       "CLContext: Intel(R) HD Graphics Haswell Ultrabook GT2 Mobile"
      ]
     },
     "execution_count": 4,
     "metadata": {},
     "output_type": "execute_result"
    }
   ],
   "source": [
    "using GPUArrays, SpecialFunctions\n",
    "N = 10^7\n",
    "sptprice   = fill(42f0, N)\n",
    "initStrike = Float32[40 + (i / N) for i = 1:N]\n",
    "rate       = fill(0.5f0, N)\n",
    "volatility = fill(0.2f0, N)\n",
    "time       = fill(0.5f0, N)\n",
    "\n",
    "result = similar(time)\n",
    "\n",
    "ctx = CLBackend.init()\n",
    "\n",
    "sptprice_gpu = GPUArray(sptprice)\n",
    "initStrike_gpu = GPUArray(initStrike)\n",
    "rate_gpu = GPUArray(rate)\n",
    "volatility_gpu = GPUArray(volatility)\n",
    "time_gpu = GPUArray(time)\n",
    "result_gpu = GPUArray(result)\n",
    "\n",
    "ctx"
   ]
  },
  {
   "cell_type": "code",
   "execution_count": 5,
   "metadata": {
    "collapsed": false,
    "deletable": true,
    "editable": true
   },
   "outputs": [
    {
     "name": "stdout",
     "output_type": "stream",
     "text": [
      "// dependant type declarations\n",
      "typedef struct {\n",
      "float empty; // structs can't be empty\n",
      "}_1blackscholes;\n",
      "\n",
      "// dependant function declarations\n",
      "float cndf2_4(float x)\n",
      "{\n",
      "    return 0.5 + 0.5 * erf(0.7071067690849304 * x);\n",
      "}\n",
      "float broadcast_index_2(__global float * restrict  arg, int shape, int i)\n",
      "{\n",
      "    ;\n",
      "    return arg[i - 1];\n",
      "    ;\n",
      "}\n",
      "float blackscholes_1(float price, float strike, float rate, float volatility, float time)\n",
      "{\n",
      "    float call;\n",
      "    float c1;\n",
      "    float futureval;\n",
      "    float cndf2d2;\n",
      "    float cndf2d1;\n",
      "    float d2;\n",
      "    float d1;\n",
      "    float den;\n",
      "    float powterm;\n",
      "    float logterm;\n",
      "    logterm = log10(price / strike);\n",
      "    powterm = 0.5 * volatility * volatility;\n",
      "    den = volatility * sqrt(time);\n",
      "    d1 = ((rate + powterm) * time + logterm) / den;\n",
      "    d2 = d1 - den;\n",
      "    cndf2d1 = cndf2_4(d1);\n",
      "    cndf2d2 = cndf2_4(d2);\n",
      "    futureval = strike * exp(-rate * time);\n",
      "    c1 = futureval * cndf2d2;\n",
      "    call = price * cndf2d1 - c1;\n",
      "    return (call - futureval) + price;\n",
      "}\n",
      "// Main inner function\n",
      "__kernel void broadcast_kernel_3(__global float * restrict  A, _1blackscholes f, int sz, __global float * restrict  arg_1, __global float * restrict  arg_2, __global float * restrict  arg_3, __global float * restrict  arg_4, __global float * restrict  arg_5)\n",
      "{\n",
      "    int i;\n",
      "    i = get_global_id(0) + 1;\n",
      "    float _ssavalue_0;\n",
      "    _ssavalue_0 = blackscholes_1(broadcast_index_2(arg_1, sz, i), broadcast_index_2(arg_2, sz, i), broadcast_index_2(arg_3, sz, i), broadcast_index_2(arg_4, sz, i), broadcast_index_2(arg_5, sz, i));\n",
      "    A[i - 1] = _ssavalue_0;\n",
      "    ;\n",
      "}\n",
      "\n",
      "4.323s 12.41s\n"
     ]
    },
    {
     "data": {
      "text/plain": [
       "0.34834919867251357"
      ]
     },
     "execution_count": 5,
     "metadata": {},
     "output_type": "execute_result"
    }
   ],
   "source": [
    "jl = @elapsed benchmark(result, sptprice, initStrike, rate, volatility, time)\n",
    "cl = @elapsed benchmark(result_gpu, sptprice_gpu, initStrike_gpu, rate_gpu, volatility_gpu, time_gpu)\n",
    "println(round(jl, 4), \"s \", round(cl, 4), \"s\")\n",
    "jl / cl"
   ]
  },
  {
   "cell_type": "markdown",
   "metadata": {
    "deletable": true,
    "editable": true
   },
   "source": [
    "Times in a table:\n",
    "\n",
    "| Backend | Time in Seconds N = 10^7 | OP/s |\n",
    "| ---- | ---- |\n",
    "| OpenCL FirePro W9100 | 0.0014526 | 6.89 e9 |\n",
    "| CUDA GTX950 | 0.00354474 | 2.8 e9|\n",
    "| OpenCL GTX950 | 0.0335097 | 3 e8 |\n",
    "| OpenCL hd4400 | 0.0420179 | 2.3 e8 |\n",
    "| 8 Threads i7-6700 | 0.199975 | 5 e7 |\n",
    "| 4 Threads i3-4130 | 0.374679 | 2.7 e7 |\n",
    "| Julia i7-6700 | 0.937901 |  1.067 e7 |\n",
    "| Julia i3-4130 | 1.04109 | 9.6 e6 |"
   ]
  },
  {
   "cell_type": "code",
   "execution_count": 7,
   "metadata": {
    "collapsed": false,
    "deletable": true,
    "editable": true
   },
   "outputs": [
    {
     "data": {
      "text/plain": [
       "julia (generic function with 2 methods)"
      ]
     },
     "execution_count": 7,
     "metadata": {},
     "output_type": "execute_result"
    }
   ],
   "source": [
    "using GPUArrays\n",
    "# julia set\n",
    "# (the familiar mandelbrot set is obtained by setting c==z initially)\n",
    "@generated function julia{N}(z, maxiter::Val{N} = Val{16}())\n",
    "    unrolled = Expr(:block)\n",
    "    for i=1:N\n",
    "        push!(unrolled.args, quote\n",
    "            if abs2(z2) > 4.0\n",
    "                return $(i-1)\n",
    "            end\n",
    "            z2 = z2 * z2 + c\n",
    "        end)\n",
    "    end\n",
    "    quote\n",
    "        c = Complex64(-0.5, 0.75)\n",
    "        z2 = z\n",
    "        $unrolled\n",
    "        return N\n",
    "    end\n",
    "end"
   ]
  },
  {
   "cell_type": "code",
   "execution_count": 9,
   "metadata": {
    "collapsed": false,
    "deletable": true,
    "editable": true
   },
   "outputs": [
    {
     "name": "stdout",
     "output_type": "stream",
     "text": [
      "  0.047870 seconds (46 allocations: 1.891 KiB)\n",
      "  0.305983 seconds (7 allocations: 256 bytes)\n"
     ]
    },
    {
     "data": {
      "image/png": "[encoded data removed]",
      "text/plain": [
       "512×512 Array{Gray{Float64},2}:\n",
       " Gray{Float64}(0.0625)  Gray{Float64}(0.0625)  …  Gray{Float64}(0.0625)\n",
       " Gray{Float64}(0.0625)  Gray{Float64}(0.0625)     Gray{Float64}(0.0625)\n",
       " Gray{Float64}(0.0625)  Gray{Float64}(0.0625)     Gray{Float64}(0.0625)\n",
       " Gray{Float64}(0.0625)  Gray{Float64}(0.0625)     Gray{Float64}(0.0625)\n",
       " Gray{Float64}(0.0625)  Gray{Float64}(0.0625)     Gray{Float64}(0.0625)\n",
       " Gray{Float64}(0.0625)  Gray{Float64}(0.0625)  …  Gray{Float64}(0.0625)\n",
       " Gray{Float64}(0.0625)  Gray{Float64}(0.0625)     Gray{Float64}(0.0625)\n",
       " Gray{Float64}(0.0625)  Gray{Float64}(0.0625)     Gray{Float64}(0.0625)\n",
       " Gray{Float64}(0.0625)  Gray{Float64}(0.0625)     Gray{Float64}(0.0625)\n",
       " Gray{Float64}(0.0625)  Gray{Float64}(0.0625)     Gray{Float64}(0.0625)\n",
       " Gray{Float64}(0.0625)  Gray{Float64}(0.0625)  …  Gray{Float64}(0.0625)\n",
       " Gray{Float64}(0.0625)  Gray{Float64}(0.0625)     Gray{Float64}(0.0625)\n",
       " Gray{Float64}(0.0625)  Gray{Float64}(0.0625)     Gray{Float64}(0.0625)\n",
       " ⋮                                             ⋱                       \n",
       " Gray{Float64}(0.0625)  Gray{Float64}(0.0625)  …  Gray{Float64}(0.0625)\n",
       " Gray{Float64}(0.0625)  Gray{Float64}(0.0625)     Gray{Float64}(0.0625)\n",
       " Gray{Float64}(0.0625)  Gray{Float64}(0.0625)     Gray{Float64}(0.0625)\n",
       " Gray{Float64}(0.0625)  Gray{Float64}(0.0625)     Gray{Float64}(0.0625)\n",
       " Gray{Float64}(0.0625)  Gray{Float64}(0.0625)     Gray{Float64}(0.0625)\n",
       " Gray{Float64}(0.0625)  Gray{Float64}(0.0625)  …  Gray{Float64}(0.0625)\n",
       " Gray{Float64}(0.0625)  Gray{Float64}(0.0625)     Gray{Float64}(0.0625)\n",
       " Gray{Float64}(0.0625)  Gray{Float64}(0.0625)     Gray{Float64}(0.0625)\n",
       " Gray{Float64}(0.0625)  Gray{Float64}(0.0625)     Gray{Float64}(0.0625)\n",
       " Gray{Float64}(0.0625)  Gray{Float64}(0.0625)     Gray{Float64}(0.0625)\n",
       " Gray{Float64}(0.0625)  Gray{Float64}(0.0625)  …  Gray{Float64}(0.0625)\n",
       " Gray{Float64}(0.0625)  Gray{Float64}(0.0625)     Gray{Float64}(0.0625)"
      ]
     },
     "execution_count": 9,
     "metadata": {},
     "output_type": "execute_result"
    }
   ],
   "source": [
    "using Colors, Images\n",
    "w = 2048 * 2;\n",
    "h = 2048 * 2;\n",
    "q = [Complex64(r, i) for i=1:-(2.0/w):-1, r=-1.5:(3.0/h):1.5];\n",
    "m = similar(q, UInt8)\n",
    "\n",
    "mg = GPUArray(m)\n",
    "qg = GPUArray(q)\n",
    "@time (mg .= julia.(qg); GPUArrays.synchronize(mg))\n",
    "@time (m .= julia.(q))\n",
    "Gray.(imresize(Array(mg), w ÷ 8, h ÷ 8) ./ 16)"
   ]
  }
 ],
 "metadata": {
  "kernelspec": {
   "display_name": "Julia 0.6.0-dev",
   "language": "julia",
   "name": "julia-0.6"
  },
  "language_info": {
   "file_extension": ".jl",
   "mimetype": "application/julia",
   "name": "julia",
   "version": "0.6.0"
  }
 },
 "nbformat": 4,
 "nbformat_minor": 2
}
